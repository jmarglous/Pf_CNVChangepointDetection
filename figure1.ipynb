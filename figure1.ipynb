{
 "cells": [
  {
   "cell_type": "code",
   "execution_count": 86,
   "metadata": {},
   "outputs": [],
   "source": [
    "import matplotlib.pyplot as plt\n",
    "import scipy as sp\n",
    "import numpy as np"
   ]
  },
  {
   "cell_type": "code",
   "execution_count": null,
   "metadata": {},
   "outputs": [],
   "source": []
  },
  {
   "cell_type": "code",
   "execution_count": 133,
   "metadata": {},
   "outputs": [
    {
     "data": {
      "image/png": "[encoded data removed]",
      "text/plain": [
       "<Figure size 640x480 with 3 Axes>"
      ]
     },
     "metadata": {},
     "output_type": "display_data"
    }
   ],
   "source": [
    "fig = plt.figure()\n",
    "ax = fig.add_subplot(2, 1, 1)\n",
    "ax.set_xlim([.2, .8])\n",
    "ax.set_ylim([.1, .6])\n",
    "ax.hlines(xmin = .4, xmax = .6, y = .5, colors = 'dimgrey')\n",
    "ax.hlines(xmin = .45, xmax = .55, y = .5, colors = 'red')\n",
    "\n",
    "ax.hlines(xmin = .15, xmax = .45, y = .25, colors = 'dimgrey')\n",
    "\n",
    "ax.hlines(xmin = .6, xmax = .7, y = .25, colors = 'dimgrey')\n",
    "ax.hlines(xmin = .649, xmax = .651, y = .25, colors = 'white')\n",
    "\n",
    "ax.hlines(xmin = .2, xmax = .4, y = .25, colors = 'red')\n",
    "ax.hlines(xmin = .295, xmax = .305, y = .25, colors = 'white')\n",
    "\n",
    "ax.arrow(x = .47, y = .47, dx = -.1, dy = -.17, color = 'red', head_width = .01)\n",
    "ax.arrow(x = .53, y = .47, dx = +.1, dy = -.17, color = 'gainsboro', head_width = .01)\n",
    "\n",
    "ax.text(x = .33, y = .375, s = 'amp', color = 'red')\n",
    "ax.text(x = .605, y = .375, s = 'del', color = 'grey')\n",
    "\n",
    "for i in range(10):\n",
    "    y = .20-i*.01\n",
    "    ax.hlines(xmin = .25 + sp.stats.norm(loc = 0, scale = .03).rvs(), xmax = .35 + sp.stats.norm(loc = 0, scale = .03).rvs(), y = y, colors = 'red')\n",
    "\n",
    "for i in range(5):\n",
    "    y = .20-i*.01\n",
    "    ax.hlines(xmin = .6 + sp.stats.norm(loc = 0, scale = .03).rvs(), xmax = .7 + sp.stats.norm(loc = 0, scale = .03).rvs(), y = y, colors = 'grey')\n",
    "ax.axis('off')\n",
    "\n",
    "ax1 = fig.add_subplot(2, 2, 3)\n",
    "#ax1.plot(sim_data_amp, color = 'red')\n",
    "ax1.set_xticklabels([])\n",
    "ax1.set_yticklabels([])\n",
    "ax1.set_xlabel(\"reference location\")\n",
    "ax1.set_ylabel('read depth')\n",
    "\n",
    "ax2 = fig.add_subplot(2, 2, 4)\n",
    "ax2.set_xticklabels([])\n",
    "ax2.set_yticklabels([])\n",
    "ax2.set_xlabel(\"reference location\")\n",
    "for i in range(len(sim_data_del)):\n",
    "    if i < 100:\n",
    "        ax2.scatter(i, sim_data_del[i], color = 'grey', s = 1)\n",
    "        ax1.scatter(i, sim_data_amp[i], color = 'grey', s = 1)\n",
    "    if 100 <= i < 200:\n",
    "        ax2.scatter(i, sim_data_del[i], color = 'gainsboro', s = 1)\n",
    "        ax1.scatter(i, sim_data_amp[i], color = 'red', s = 1)\n",
    "\n",
    "    if 200 <= i < 300:\n",
    "        ax2.scatter(i, sim_data_del[i], color = 'grey', s = 1)\n",
    "        ax1.scatter(i, sim_data_amp[i], color = 'grey', s = 1)\n",
    "\n",
    "#ax2.plot(sim_data_del, color = 'grey')\n",
    "fig.savefig('intro_layout.png', dpi = 300)\n"
   ]
  },
  {
   "cell_type": "code",
   "execution_count": 128,
   "metadata": {},
   "outputs": [],
   "source": [
    "sim_data_amp = []\n",
    "\n",
    "for i in range(100):\n",
    "    sim_data_amp.append(sp.stats.norm(loc = 1, scale = .5).rvs())\n",
    "\n",
    "for i in range(100):\n",
    "    sim_data_amp.append(sp.stats.norm(loc = 2, scale = .5).rvs())  \n",
    "\n",
    "for i in range(100):\n",
    "    sim_data_amp.append(sp.stats.norm(loc = 1, scale = .5).rvs())\n",
    "\n",
    "sim_data_amp = np.array(sim_data_amp)\n",
    "\n",
    "sim_data_del = []\n",
    "\n",
    "for i in range(100):\n",
    "    sim_data_del.append(sp.stats.norm(loc = 1, scale = .5).rvs())\n",
    "\n",
    "for i in range(100):\n",
    "    sim_data_del.append(sp.stats.norm(loc = 0, scale = .5).rvs())  \n",
    "\n",
    "for i in range(100):\n",
    "    sim_data_del.append(sp.stats.norm(loc = 1, scale = .5).rvs())\n",
    "\n",
    "sim_data_del = np.array(sim_data_del)\n"
   ]
  },
  {
   "cell_type": "code",
   "execution_count": null,
   "metadata": {},
   "outputs": [],
   "source": []
  }
 ],
 "metadata": {
  "kernelspec": {
   "display_name": "lab",
   "language": "python",
   "name": "python3"
  },
  "language_info": {
   "codemirror_mode": {
    "name": "ipython",
    "version": 3
   },
   "file_extension": ".py",
   "mimetype": "text/x-python",
   "name": "python",
   "nbconvert_exporter": "python",
   "pygments_lexer": "ipython3",
   "version": "3.11.5"
  }
 },
 "nbformat": 4,
 "nbformat_minor": 2
}
